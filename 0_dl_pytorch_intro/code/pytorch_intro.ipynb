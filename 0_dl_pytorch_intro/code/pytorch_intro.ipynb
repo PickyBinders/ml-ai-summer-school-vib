{
 "cells": [
  {
   "cell_type": "markdown",
   "metadata": {},
   "source": [
    "# PyTorch Basics: Introduction to Deep Learning\n",
    "\n",
    "Today we will learn how to work with PyTorch, one of the most popular deep learning frameworks (libraries). We will see how can we do the same things as in NumPy and more.\n",
    "\n",
    "[How to install](https://pytorch.org/)"
   ]
  },
  {
   "cell_type": "markdown",
   "metadata": {},
   "source": [
    "<img src=\"image.jpg\" width=\"300\" height=\"200\" alt=\"Add some cool image\">"
   ]
  },
  {
   "cell_type": "markdown",
   "metadata": {},
   "source": [
    "## 1. Introduction to PyTorch\n",
    "\n",
    "PyTorch is an open-source machine learning library developed by Facebook (now Meta). It's known for its dynamic computational graphs and Python-first approach, making it popular for research and production.\n",
    "\n",
    "### Key Features:\n",
    "- **Dynamic Computational Graphs**: Graphs are built on-the-fly (sounds abstract but we'll discuss)\n",
    "- **Pythonic**: Natural Python syntax and control flow\n",
    "- **GPU Support**: Seamless CPU/GPU computation\n",
    "- **Rich Ecosystem**: Extensive libraries for computer vision, NLP, etc."
   ]
  },
  {
   "cell_type": "code",
   "execution_count": null,
   "metadata": {},
   "outputs": [
    {
     "name": "stdout",
     "output_type": "stream",
     "text": [
      "PyTorch version: 2.7.1+cu118\n",
      "CUDA available: True\n",
      "CUDA device: NVIDIA A100-SXM4-40GB\n"
     ]
    }
   ],
   "source": [
    "from pathlib import Path\n",
    "import pandas as pd\n",
    "import matplotlib.pyplot as plt\n",
    "import torch\n",
    "import torch.nn as nn\n",
    "import torch.optim as optim\n",
    "import torch.nn.functional as F\n",
    "from torch.utils.data import Dataset, DataLoader\n",
    "import numpy as np\n",
    "import seaborn as sns\n",
    "from sklearn.model_selection import train_test_split\n",
    "from sklearn.metrics import accuracy_score\n",
    "from IPython.display import clear_output\n",
    "\n",
    "# Set random seed for reproducibility\n",
    "SEED = 42\n",
    "torch.manual_seed(SEED)\n",
    "np.random.seed(SEED)\n",
    "\n",
    "# Check PyTorch version and CUDA availability\n",
    "print(f\"PyTorch version: {torch.__version__}\")\n",
    "print(f\"CUDA available: {torch.cuda.is_available()}\")\n",
    "if torch.cuda.is_available():\n",
    "    print(f\"CUDA device: {torch.cuda.get_device_name(0)}\")\n",
    "\n",
    "def set_plot_params():\n",
    "    plt.style.use(\"seaborn-v0_8-paper\")\n",
    "    sns.set_context(\"paper\", font_scale=1.5)\n",
    "    sns.set_style(\n",
    "        \"ticks\",\n",
    "        {\n",
    "            \"axes.grid\": True,\n",
    "            \"grid.linestyle\": \"--\",\n",
    "            \"grid.alpha\": 0.6,\n",
    "            \"axes.spines.right\": False,\n",
    "            \"axes.spines.top\": False,\n",
    "            \"font.family\": \"serif\",\n",
    "            \"axes.labelpad\": 10,\n",
    "        },\n",
    "    )\n",
    "\n",
    "    colors = [\n",
    "        \"#0173B2\",\n",
    "        \"#DE8F05\",\n",
    "        \"#029E73\",\n",
    "        \"#D55E00\",\n",
    "        \"#CC78BC\",\n",
    "        \"#CA9161\",\n",
    "        \"#FBAFE4\",\n",
    "    ]\n",
    "    sns.set_palette(colors)\n",
    "\n",
    "set_plot_params()"
   ]
  },
  {
   "cell_type": "markdown",
   "metadata": {},
   "source": [
    "## 2. Tensors: The Foundation of PyTorch\n",
    "\n",
    "Tensors are the fundamental data structure in PyTorch, similar to NumPy arrays but with additional features for deep learning.\n",
    "\n",
    "### Key Concepts:\n",
    "- **Tensors** are multi-dimensional arrays\n",
    "- **Shape** defines the dimensions\n",
    "- **Data Type** (dtype) specifies the data type\n",
    "- **Device** (CPU/GPU) determines where computation happens"
   ]
  },
  {
   "cell_type": "markdown",
   "metadata": {},
   "source": [
    "### All dtypes\n",
    "\n",
    "- `torch.HalfTensor`      # 16 bits, floating point\n",
    "- `torch.FloatTensor`     # 32 bits, floating point\n",
    "- `torch.DoubleTensor`    # 64 bits, floating point\n",
    "\n",
    "- `torch.ShortTensor`     # 16 bits, integer, signed\n",
    "- `torch.IntTensor`       # 32 bits, integer, signed\n",
    "- `torch.LongTensor`      # 64 bits, integer, signed\n",
    "\n",
    "- `torch.CharTensor`      # 8 bits, integer, signed\n",
    "- `torch.ByteTensor`      # 8 bits, integer, unsigned\n",
    "\n",
    "We will use `torch.FloatTensor()` and `torch.IntTensor()` most of the time."
   ]
  },
  {
   "cell_type": "markdown",
   "metadata": {},
   "source": [
    "### Creating tensors"
   ]
  },
  {
   "cell_type": "code",
   "execution_count": 350,
   "metadata": {},
   "outputs": [
    {
     "name": "stdout",
     "output_type": "stream",
     "text": [
      "From list: tensor([1, 2, 3, 4]), shape: torch.Size([4]), dtype: torch.int64\n"
     ]
    }
   ],
   "source": [
    "# From Python lists\n",
    "x = torch.tensor([1, 2, 3, 4])\n",
    "print(f\"From list: {x}, shape: {x.shape}, dtype: {x.dtype}\")"
   ]
  },
  {
   "cell_type": "code",
   "execution_count": 351,
   "metadata": {},
   "outputs": [
    {
     "name": "stdout",
     "output_type": "stream",
     "text": [
      "From NumPy: \n",
      "tensor([[1, 2],\n",
      "        [3, 4]])\n",
      "shape: torch.Size([2, 2])\n"
     ]
    }
   ],
   "source": [
    "# From NumPy arrays\n",
    "arr = np.array([[1, 2], [3, 4]])\n",
    "y = torch.from_numpy(arr)\n",
    "print(f\"From NumPy: \\n{y}\\nshape: {y.shape}\")"
   ]
  },
  {
   "cell_type": "markdown",
   "metadata": {},
   "source": [
    "Good to know when converting data from `numpy` to `torch`:"
   ]
  },
  {
   "cell_type": "code",
   "execution_count": 352,
   "metadata": {},
   "outputs": [
    {
     "data": {
      "text/plain": [
       "(tensor([[0, 0],\n",
       "         [0, 0]]),\n",
       " array([[0, 0],\n",
       "        [0, 0]]))"
      ]
     },
     "execution_count": 352,
     "metadata": {},
     "output_type": "execute_result"
    }
   ],
   "source": [
    "y -= y\n",
    "y, arr"
   ]
  },
  {
   "cell_type": "code",
   "execution_count": 353,
   "metadata": {},
   "outputs": [
    {
     "name": "stdout",
     "output_type": "stream",
     "text": [
      "Zeros: \n",
      "tensor([[0., 0., 0.],\n",
      "        [0., 0., 0.]])\n",
      "Ones: \n",
      "tensor([[1., 1., 1.],\n",
      "        [1., 1., 1.]])\n"
     ]
    }
   ],
   "source": [
    "# Zeros and ones\n",
    "zeros = torch.zeros(2, 3)\n",
    "ones = torch.ones(2, 3)\n",
    "print(f\"Zeros: \\n{zeros}\")\n",
    "print(f\"Ones: \\n{ones}\")"
   ]
  },
  {
   "cell_type": "code",
   "execution_count": 354,
   "metadata": {},
   "outputs": [
    {
     "name": "stdout",
     "output_type": "stream",
     "text": [
      "Random tensor: \n",
      "tensor([[0.8823, 0.9150, 0.3829, 0.9593],\n",
      "        [0.3904, 0.6009, 0.2566, 0.7936],\n",
      "        [0.9408, 0.1332, 0.9346, 0.5936]])\n"
     ]
    }
   ],
   "source": [
    "# Random tensors\n",
    "random_tensor = torch.rand(3, 4)\n",
    "print(f\"Random tensor: \\n{random_tensor}\")"
   ]
  },
  {
   "cell_type": "code",
   "execution_count": 355,
   "metadata": {},
   "outputs": [
    {
     "name": "stdout",
     "output_type": "stream",
     "text": [
      "Float tensor: tensor([1., 2., 3.], dtype=torch.float16), dtype: torch.float16\n"
     ]
    }
   ],
   "source": [
    "# Specifying data type\n",
    "float_tensor = torch.tensor([1, 2, 3], dtype=torch.float16)\n",
    "print(f\"Float tensor: {float_tensor}, dtype: {float_tensor.dtype}\")"
   ]
  },
  {
   "cell_type": "code",
   "execution_count": 356,
   "metadata": {},
   "outputs": [
    {
     "name": "stdout",
     "output_type": "stream",
     "text": [
      "x ~ N(0, 1)\n",
      " tensor([[ 2.2082, -0.6380,  0.4617],\n",
      "        [ 0.2674,  0.5349,  0.8094]])\n"
     ]
    }
   ],
   "source": [
    "# Creating tenors from various distributions\n",
    "x = torch.randn((2, 3)) # Normal(0, 1) with shape (2, 3)\n",
    "print(f\"x ~ N(0, 1)\\n {x}\")"
   ]
  },
  {
   "cell_type": "markdown",
   "metadata": {},
   "source": [
    "Most of the methods (functions) in PyTorch have their analog with `_`, e.g. `method` and `method_`. The first one creates a new object and the second changes existing one.  "
   ]
  },
  {
   "cell_type": "code",
   "execution_count": 357,
   "metadata": {},
   "outputs": [
    {
     "name": "stdout",
     "output_type": "stream",
     "text": [
      "x ~ Ud[0, 10)\n",
      " tensor([[9., 3., 1.],\n",
      "        [9., 7., 9.]])\n"
     ]
    }
   ],
   "source": [
    "# Fills x with values from discrite uniform distribution\n",
    "x.random_(0, 10)\n",
    "print(f\"x ~ Ud[0, 10)\\n {x}\")"
   ]
  },
  {
   "cell_type": "code",
   "execution_count": 358,
   "metadata": {},
   "outputs": [
    {
     "name": "stdout",
     "output_type": "stream",
     "text": [
      "x ~ U[0, 1]\n",
      " tensor([[0.9516, 0.0753, 0.8860],\n",
      "        [0.5832, 0.3376, 0.8090]])\n"
     ]
    }
   ],
   "source": [
    "# Fills x with values from uniform distribution\n",
    "x.uniform_(0, 1)\n",
    "print(f\"x ~ U[0, 1]\\n {x}\")"
   ]
  },
  {
   "cell_type": "code",
   "execution_count": 359,
   "metadata": {},
   "outputs": [
    {
     "name": "stdout",
     "output_type": "stream",
     "text": [
      "x ~ Bernoulli(0.5)\n",
      " tensor([[0., 1., 1.],\n",
      "        [0., 1., 1.]])\n"
     ]
    }
   ],
   "source": [
    "# Bernoulli with parameter p\n",
    "x.bernoulli_(p=0.5)\n",
    "print((f\"x ~ Bernoulli(0.5)\\n {x}\"))"
   ]
  },
  {
   "cell_type": "markdown",
   "metadata": {},
   "source": [
    "### Functions and tensor operations in Torch\n",
    "\n",
    "A lot of function from `numpy` have their pair in `PyTorch`! We just need to remember `numpy` 😨 😰 😥 😓 🤗\n",
    "\n",
    "[click here](https://github.com/torch/torch7/wiki/Torch-for-Numpy-users)"
   ]
  },
  {
   "cell_type": "markdown",
   "metadata": {},
   "source": [
    "#### Basic operations"
   ]
  },
  {
   "cell_type": "code",
   "execution_count": 360,
   "metadata": {},
   "outputs": [],
   "source": [
    "a = torch.tensor([1, 2, 3])\n",
    "b = torch.tensor([4, 5, 6])"
   ]
  },
  {
   "cell_type": "code",
   "execution_count": 361,
   "metadata": {},
   "outputs": [
    {
     "name": "stdout",
     "output_type": "stream",
     "text": [
      "Addition: tensor([5, 7, 9])\n",
      "Multiplication: tensor([ 4, 10, 18])\n",
      "Matrix multiplication: 32\n",
      "Matrix multiplication: 32\n",
      "Matrix multiplication @: 32\n"
     ]
    }
   ],
   "source": [
    "# Basic arithmetic\n",
    "print(f\"Addition: {a + b}\")\n",
    "print(f\"Multiplication: {a * b}\")\n",
    "print(f\"Matrix multiplication: {torch.matmul(a, b)}\")\n",
    "print(f\"Matrix multiplication: {torch.matmul(a, b)}\")\n",
    "print(f\"Matrix multiplication @: {a @ b}\")"
   ]
  },
  {
   "cell_type": "code",
   "execution_count": 362,
   "metadata": {},
   "outputs": [
    {
     "name": "stdout",
     "output_type": "stream",
     "text": [
      "Original: tensor([ 0,  1,  2,  3,  4,  5,  6,  7,  8,  9, 10, 11])\n",
      "Reshaped to 3x4: \n",
      "tensor([[ 0,  1,  2,  3],\n",
      "        [ 4,  5,  6,  7],\n",
      "        [ 8,  9, 10, 11]])\n",
      "Reshaped to 3x4: \n",
      "tensor([[ 0,  1,  2,  3],\n",
      "        [ 4,  5,  6,  7],\n",
      "        [ 8,  9, 10, 11]])\n",
      "Reshaped to -1(everything else)x12: \n",
      "tensor([[ 0,  1,  2,  3,  4,  5,  6,  7,  8,  9, 10, 11]])\n"
     ]
    }
   ],
   "source": [
    "# Reshaping\n",
    "c = torch.arange(12)\n",
    "print(f\"Original: {c}\")\n",
    "print(f\"Reshaped to 3x4: \\n{c.reshape(3, 4)}\")\n",
    "print(f\"Reshaped to 3x4: \\n{c.view(3, 4)}\")\n",
    "print(f\"Reshaped to -1(everything else)x12: \\n{c.reshape(-1, 12)}\")"
   ]
  },
  {
   "cell_type": "code",
   "execution_count": 363,
   "metadata": {},
   "outputs": [
    {
     "name": "stdout",
     "output_type": "stream",
     "text": [
      "Matrix: \n",
      "tensor([[0.7539, 0.1952, 0.0050, 0.3068],\n",
      "        [0.1165, 0.9103, 0.6440, 0.7071],\n",
      "        [0.6581, 0.4913, 0.8913, 0.1447],\n",
      "        [0.5315, 0.1587, 0.6542, 0.3278]])\n",
      "First row: tensor([0.7539, 0.1952, 0.0050, 0.3068])\n",
      "First column: tensor([0.7539, 0.1165, 0.6581, 0.5315])\n",
      "Submatrix (rows 1-2, cols 1-2): \n",
      "tensor([[0.9103, 0.6440],\n",
      "        [0.4913, 0.8913]])\n"
     ]
    }
   ],
   "source": [
    "# Slicing and indexing\n",
    "matrix = torch.rand(4, 4)\n",
    "print(f\"Matrix: \\n{matrix}\")\n",
    "print(f\"First row: {matrix[0]}\")\n",
    "print(f\"First column: {matrix[:, 0]}\")\n",
    "print(f\"Submatrix (rows 1-2, cols 1-2): \\n{matrix[1:3, 1:3]}\")"
   ]
  },
  {
   "cell_type": "code",
   "execution_count": 364,
   "metadata": {},
   "outputs": [
    {
     "name": "stdout",
     "output_type": "stream",
     "text": [
      "Dtype of a: torch.int64\n",
      "Cast a to float64: tensor([1., 2., 3.], dtype=torch.float64)\n",
      "Cast b to the same dtype as a: tensor([4., 5., 6.], dtype=torch.float64)\n",
      ".type_as create a new tensor, the old one stays unchganged: torch.int64\n"
     ]
    }
   ],
   "source": [
    "# Change dtype\n",
    "print(f\"Dtype of a: {a.dtype}\")\n",
    "print(f\"Cast a to float64: {a.to(torch.float64)}\")\n",
    "print(f\"Cast b to the same dtype as a: {b.type_as(a.to(torch.float64))}\")\n",
    "print(f\".type_as create a new tensor, the old one stays unchganged: {b.dtype}\")"
   ]
  },
  {
   "cell_type": "code",
   "execution_count": 365,
   "metadata": {},
   "outputs": [
    {
     "name": "stdout",
     "output_type": "stream",
     "text": [
      "sin(a): tensor([0.8415, 0.9093, 0.1411])\n",
      "exp(a): tensor([ 2.7183,  7.3891, 20.0855])\n",
      "sigmoid(a): tensor([0.7311, 0.8808, 0.9526])\n"
     ]
    }
   ],
   "source": [
    "# Applying common funstion element-wise\n",
    "print(f\"sin(a): {torch.sin(a)}\")\n",
    "print(f\"exp(a): {torch.exp(a)}\")\n",
    "print(f\"sigmoid(a): {torch.sigmoid(a)}\")"
   ]
  },
  {
   "cell_type": "markdown",
   "metadata": {},
   "source": [
    "#### Aggregation and working with axes\n",
    "\n",
    "`sum`, `mean`, `max`, `min`, etc."
   ]
  },
  {
   "cell_type": "code",
   "execution_count": 366,
   "metadata": {},
   "outputs": [],
   "source": [
    "a = torch.FloatTensor([[-0.5, 0.5, 0], [-10, -20, -30], [100, 200, 300]])"
   ]
  },
  {
   "cell_type": "code",
   "execution_count": 367,
   "metadata": {},
   "outputs": [
    {
     "data": {
      "text/plain": [
       "tensor(540.)"
      ]
     },
     "execution_count": 367,
     "metadata": {},
     "output_type": "execute_result"
    }
   ],
   "source": [
    "a.sum() # tensor"
   ]
  },
  {
   "cell_type": "code",
   "execution_count": 368,
   "metadata": {},
   "outputs": [
    {
     "data": {
      "text/plain": [
       "540.0"
      ]
     },
     "execution_count": 368,
     "metadata": {},
     "output_type": "execute_result"
    }
   ],
   "source": [
    "a.sum().item() # Python float"
   ]
  },
  {
   "cell_type": "markdown",
   "metadata": {},
   "source": [
    "Operations with tensors return tensors"
   ]
  },
  {
   "cell_type": "code",
   "execution_count": 369,
   "metadata": {},
   "outputs": [
    {
     "data": {
      "text/plain": [
       "tensor(True)"
      ]
     },
     "execution_count": 369,
     "metadata": {},
     "output_type": "execute_result"
    }
   ],
   "source": [
    "# Compare float with float tensor\n",
    "a.sum().item() == a.sum()"
   ]
  },
  {
   "cell_type": "code",
   "execution_count": 370,
   "metadata": {},
   "outputs": [
    {
     "data": {
      "text/plain": [
       "False"
      ]
     },
     "execution_count": 370,
     "metadata": {},
     "output_type": "execute_result"
    }
   ],
   "source": [
    "# Not in this case\n",
    "a.sum().item() is a.sum()"
   ]
  },
  {
   "cell_type": "code",
   "execution_count": 371,
   "metadata": {},
   "outputs": [
    {
     "data": {
      "text/plain": [
       "tensor(60.)"
      ]
     },
     "execution_count": 371,
     "metadata": {},
     "output_type": "execute_result"
    }
   ],
   "source": [
    "a.mean()"
   ]
  },
  {
   "cell_type": "markdown",
   "metadata": {},
   "source": [
    "We can apply methods along a specified axis"
   ]
  },
  {
   "cell_type": "code",
   "execution_count": 372,
   "metadata": {},
   "outputs": [
    {
     "data": {
      "text/plain": [
       "(tensor([ 89.5000, 180.5000, 270.0000]), tensor([  0., -60., 600.]))"
      ]
     },
     "execution_count": 372,
     "metadata": {},
     "output_type": "execute_result"
    }
   ],
   "source": [
    "a.sum(dim=0), a.sum(dim=1)"
   ]
  },
  {
   "cell_type": "code",
   "execution_count": 373,
   "metadata": {},
   "outputs": [
    {
     "name": "stdout",
     "output_type": "stream",
     "text": [
      "Max values along 0 axis: tensor([100., 200., 300.])\n",
      "Indexes of max values: tensor([2, 2, 2])\n"
     ]
    }
   ],
   "source": [
    "max_v, max_i = a.max(dim=0)\n",
    "print(f\"Max values along 0 axis: {max_v}\")\n",
    "print(f\"Indexes of max values: {max_i}\")"
   ]
  },
  {
   "cell_type": "markdown",
   "metadata": {},
   "source": [
    "A simple trick to add a new axis"
   ]
  },
  {
   "cell_type": "code",
   "execution_count": 374,
   "metadata": {},
   "outputs": [
    {
     "data": {
      "text/plain": [
       "(torch.Size([3, 3]), torch.Size([3, 1, 3]), torch.Size([1, 3, 3]))"
      ]
     },
     "execution_count": 374,
     "metadata": {},
     "output_type": "execute_result"
    }
   ],
   "source": [
    "a.shape, a[:, None, :].shape, a[None, :, :].shape"
   ]
  },
  {
   "cell_type": "markdown",
   "metadata": {},
   "source": [
    "It is hard sometimes to understand which axis you should use, but there is a simple rule: **operations are applyed along the axis which will disappear.**"
   ]
  },
  {
   "cell_type": "markdown",
   "metadata": {},
   "source": [
    "## 3. Automatic Differentiation (Autograd)\n",
    "\n",
    "Autograd is PyTorch's automatic differentiation engine. It computes gradients automatically, which is essential for training neural networks.\n",
    "\n",
    "### Key Concepts:\n",
    "- **requires_grad=True**: Tells PyTorch to track gradients\n",
    "- **backward()**: Computes gradients\n",
    "- **grad**: Stores the computed gradients\n",
    "- **detach()**: Creates a tensor without gradient tracking"
   ]
  },
  {
   "cell_type": "code",
   "execution_count": 375,
   "metadata": {},
   "outputs": [
    {
     "name": "stdout",
     "output_type": "stream",
     "text": [
      "x: 2.0, requires_grad: True\n",
      "y: 3.0, requires_grad: True\n"
     ]
    }
   ],
   "source": [
    "# Create tensors with gradient tracking\n",
    "x = torch.tensor(2.0, requires_grad=True)\n",
    "y = torch.tensor(3.0, requires_grad=True)\n",
    "\n",
    "print(f\"x: {x}, requires_grad: {x.requires_grad}\")\n",
    "print(f\"y: {y}, requires_grad: {y.requires_grad}\")"
   ]
  },
  {
   "cell_type": "code",
   "execution_count": 376,
   "metadata": {},
   "outputs": [
    {
     "name": "stdout",
     "output_type": "stream",
     "text": [
      "z = x^2 + y^2 = 13.0\n"
     ]
    }
   ],
   "source": [
    "# Define a simple function: f(x, y) = x^2 + y^2\n",
    "z = x**2 + y**2\n",
    "print(f\"z = x^2 + y^2 = {z}\")"
   ]
  },
  {
   "cell_type": "code",
   "execution_count": 377,
   "metadata": {},
   "outputs": [
    {
     "name": "stdout",
     "output_type": "stream",
     "text": [
      "∂z/∂x = 2x = 4.0\n",
      "∂z/∂y = 2y = 6.0\n"
     ]
    }
   ],
   "source": [
    "# Compute gradients\n",
    "z.backward()\n",
    "\n",
    "print(f\"∂z/∂x = 2x = {x.grad}\")\n",
    "print(f\"∂z/∂y = 2y = {y.grad}\")"
   ]
  },
  {
   "cell_type": "markdown",
   "metadata": {},
   "source": [
    "Would you expect it?"
   ]
  },
  {
   "cell_type": "markdown",
   "metadata": {},
   "source": [
    "#### More complex example: linear regression"
   ]
  },
  {
   "cell_type": "code",
   "execution_count": 378,
   "metadata": {},
   "outputs": [],
   "source": [
    "# Generate synthetic data\n",
    "x = torch.randn(100, 1)\n",
    "y = 3 * x + 2 + 2.0 * torch.randn(100, 1) + 1.0 * (torch.sin(x)) # Add some noise"
   ]
  },
  {
   "cell_type": "code",
   "execution_count": 379,
   "metadata": {},
   "outputs": [
    {
     "data": {
      "image/png": "[encoded data removed]",
      "text/plain": [
       "<Figure size 640x440 with 1 Axes>"
      ]
     },
     "metadata": {},
     "output_type": "display_data"
    }
   ],
   "source": [
    "sns.scatterplot(y=y.numpy()[:, 0], x=x.numpy()[:, 0], label=\"Real\")\n",
    "sns.lineplot(y=(3 * x + 2).numpy()[:, 0], x=x.numpy()[:, 0], color=\"orange\", label=\"Theoretical\")\n",
    "plt.xlabel(\"Feature\")\n",
    "plt.ylabel(\"Target\");"
   ]
  },
  {
   "cell_type": "code",
   "execution_count": 380,
   "metadata": {},
   "outputs": [
    {
     "data": {
      "text/plain": [
       "(tensor([-1.3375], requires_grad=True), tensor([0.6449], requires_grad=True))"
      ]
     },
     "execution_count": 380,
     "metadata": {},
     "output_type": "execute_result"
    }
   ],
   "source": [
    "# Generate random initial parameters (weights)\n",
    "w0 = torch.randn(1, requires_grad=True)\n",
    "w1 = torch.randn(1, requires_grad=True)\n",
    "\n",
    "w0, w1"
   ]
  },
  {
   "cell_type": "markdown",
   "metadata": {},
   "source": [
    "Make predictions and calculate the loss:"
   ]
  },
  {
   "cell_type": "code",
   "execution_count": 381,
   "metadata": {},
   "outputs": [],
   "source": [
    "y_pred = w1 * x + w0\n",
    "loss = torch.mean((y_pred - y) ** 2)"
   ]
  },
  {
   "cell_type": "code",
   "execution_count": 382,
   "metadata": {},
   "outputs": [
    {
     "data": {
      "text/plain": [
       "tensor(27.7125, grad_fn=<MeanBackward0>)"
      ]
     },
     "execution_count": 382,
     "metadata": {},
     "output_type": "execute_result"
    }
   ],
   "source": [
    "loss"
   ]
  },
  {
   "cell_type": "markdown",
   "metadata": {},
   "source": [
    "Backpropagation in one line:"
   ]
  },
  {
   "cell_type": "code",
   "execution_count": 383,
   "metadata": {},
   "outputs": [],
   "source": [
    "loss.backward()"
   ]
  },
  {
   "cell_type": "code",
   "execution_count": 384,
   "metadata": {},
   "outputs": [
    {
     "name": "stdout",
     "output_type": "stream",
     "text": [
      "∂L/∂w0 = \n",
      " tensor([-8.1764])\n",
      "∂L/∂w1 = \n",
      " tensor([-6.4983])\n"
     ]
    }
   ],
   "source": [
    "print(\"∂L/∂w0 = \\n\", w0.grad)\n",
    "print(\"∂L/∂w1 = \\n\", w1.grad)"
   ]
  },
  {
   "cell_type": "markdown",
   "metadata": {},
   "source": [
    "#### Training our first model:"
   ]
  },
  {
   "cell_type": "code",
   "execution_count": 385,
   "metadata": {},
   "outputs": [
    {
     "data": {
      "image/png": "[encoded data removed]",
      "text/plain": [
       "<Figure size 640x440 with 1 Axes>"
      ]
     },
     "metadata": {},
     "output_type": "display_data"
    },
    {
     "name": "stdout",
     "output_type": "stream",
     "text": [
      "Epoch 65 / 200\n",
      "loss =  4.164522\n",
      "Done!\n"
     ]
    }
   ],
   "source": [
    "n_epochs = 200\n",
    "lr = 0.01\n",
    "w0 = torch.randn(1, requires_grad=True)\n",
    "w1 = torch.randn(1, requires_grad=True)\n",
    "\n",
    "for i in range(n_epochs):\n",
    "    y_pred = w1 * x + w0\n",
    "\n",
    "    # Calculate loss\n",
    "    loss = torch.mean((y_pred - y) ** 2)\n",
    "\n",
    "    # Calculate gradients\n",
    "    loss.backward()\n",
    "\n",
    "    # Do a step towards anti-gradient (gradient descent)\n",
    "    w0.data -= lr * w0.grad.data\n",
    "    w1.data -= lr * w1.grad.data\n",
    "\n",
    "    # Zero out the gradients, otherwise PyTorch will sum them up!!!\n",
    "    w0.grad.data.zero_()\n",
    "    w1.grad.data.zero_()\n",
    "\n",
    "    # The rest code is just in order to track progress\n",
    "    if (i+1) % 5 == 0:\n",
    "        clear_output(True)\n",
    "        sns.scatterplot(x=x.data.numpy()[:, 0], y=y.data.numpy()[:, 0], label=\"Real data\")\n",
    "        sns.lineplot(x=x.data.numpy()[:, 0], y=y_pred.data.numpy()[:, 0], label=\"Model\",\n",
    "                    color=\"black\")\n",
    "        sns.lineplot(x=x.numpy()[:, 0], y=(3 * x + 2).numpy()[:, 0], label=\"Theoretical\",\n",
    "                    color=\"orange\")     \n",
    "        plt.xlabel(\"Feature\")\n",
    "        plt.ylabel(\"Target\") \n",
    "        plt.xlim(-3.0, 3.0)\n",
    "        plt.ylim(-10, 10)\n",
    "        plt.show()\n",
    "\n",
    "        print(f\"Epoch {i + 1} / {n_epochs}\")\n",
    "        print(\"loss = \", loss.data.numpy())\n",
    "        if loss.data.numpy() < 4.25:\n",
    "            print(\"Done!\")\n",
    "            break"
   ]
  },
  {
   "cell_type": "markdown",
   "metadata": {},
   "source": [
    "What if we don't zero out the gradients:"
   ]
  },
  {
   "cell_type": "code",
   "execution_count": 386,
   "metadata": {},
   "outputs": [
    {
     "data": {
      "image/png": "[encoded data removed]",
      "text/plain": [
       "<Figure size 640x440 with 1 Axes>"
      ]
     },
     "metadata": {},
     "output_type": "display_data"
    },
    {
     "name": "stdout",
     "output_type": "stream",
     "text": [
      "Epoch 115 / 200\n",
      "loss =  3.7606852\n",
      "Done!\n"
     ]
    }
   ],
   "source": [
    "n_epochs = 200\n",
    "lr = 0.01\n",
    "w0 = torch.randn(1, requires_grad=True)\n",
    "w1 = torch.randn(1, requires_grad=True)\n",
    "\n",
    "for i in range(n_epochs):\n",
    "    y_pred = w1 * x + w0\n",
    "\n",
    "    # Calculate loss\n",
    "    loss = torch.mean((y_pred - y) ** 2)\n",
    "\n",
    "    # Calculate gradients\n",
    "    loss.backward()\n",
    "\n",
    "    # Do a step towards anti-gradient (gradient descent)\n",
    "    w0.data -= lr * w0.grad.data\n",
    "    w1.data -= lr * w1.grad.data\n",
    "\n",
    "    # Don't zero out the gradients, so PyTorch will sum them up!!!\n",
    "    # w0.grad.data.zero_()\n",
    "    # w1.grad.data.zero_()\n",
    "\n",
    "    # The rest code is just in order to track progress\n",
    "    if (i+1) % 5 == 0:\n",
    "        clear_output(True)\n",
    "        sns.scatterplot(x=x.data.numpy()[:, 0], y=y.data.numpy()[:, 0], label=\"Real data\")\n",
    "        sns.lineplot(x=x.data.numpy()[:, 0], y=y_pred.data.numpy()[:, 0], label=\"Model\",\n",
    "                    color=\"black\")\n",
    "        sns.lineplot(x=x.numpy()[:, 0], y=(3 * x + 2).numpy()[:, 0], label=\"Theoretical\",\n",
    "                    color=\"orange\")     \n",
    "        plt.xlabel(\"Feature\")\n",
    "        plt.ylabel(\"Target\") \n",
    "        plt.xlim(-3.0, 3.0)\n",
    "        plt.ylim(-10, 10)\n",
    "        plt.show()\n",
    "\n",
    "        print(f\"Epoch {i + 1} / {n_epochs}\")\n",
    "        print(\"loss = \", loss.data.numpy())\n",
    "        if loss.data.numpy() < 4.25:\n",
    "            print(\"Done!\")\n",
    "            break"
   ]
  },
  {
   "cell_type": "markdown",
   "metadata": {},
   "source": [
    "Computational graphs are dynamic:"
   ]
  },
  {
   "cell_type": "code",
   "execution_count": 387,
   "metadata": {},
   "outputs": [
    {
     "ename": "RuntimeError",
     "evalue": "Trying to backward through the graph a second time (or directly access saved tensors after they have already been freed). Saved intermediate values of the graph are freed when you call .backward() or autograd.grad(). Specify retain_graph=True if you need to backward through the graph a second time or if you need to access saved tensors after calling backward.",
     "output_type": "error",
     "traceback": [
      "\u001b[0;31m---------------------------------------------------------------------------\u001b[0m",
      "\u001b[0;31mRuntimeError\u001b[0m                              Traceback (most recent call last)",
      "Cell \u001b[0;32mIn[387], line 1\u001b[0m\n\u001b[0;32m----> 1\u001b[0m \u001b[43mloss\u001b[49m\u001b[38;5;241;43m.\u001b[39;49m\u001b[43mbackward\u001b[49m\u001b[43m(\u001b[49m\u001b[43m)\u001b[49m\n",
      "File \u001b[0;32m~/mambaforge/envs/protein_dl/lib/python3.10/site-packages/torch/_tensor.py:648\u001b[0m, in \u001b[0;36mTensor.backward\u001b[0;34m(self, gradient, retain_graph, create_graph, inputs)\u001b[0m\n\u001b[1;32m    638\u001b[0m \u001b[38;5;28;01mif\u001b[39;00m has_torch_function_unary(\u001b[38;5;28mself\u001b[39m):\n\u001b[1;32m    639\u001b[0m     \u001b[38;5;28;01mreturn\u001b[39;00m handle_torch_function(\n\u001b[1;32m    640\u001b[0m         Tensor\u001b[38;5;241m.\u001b[39mbackward,\n\u001b[1;32m    641\u001b[0m         (\u001b[38;5;28mself\u001b[39m,),\n\u001b[0;32m   (...)\u001b[0m\n\u001b[1;32m    646\u001b[0m         inputs\u001b[38;5;241m=\u001b[39minputs,\n\u001b[1;32m    647\u001b[0m     )\n\u001b[0;32m--> 648\u001b[0m \u001b[43mtorch\u001b[49m\u001b[38;5;241;43m.\u001b[39;49m\u001b[43mautograd\u001b[49m\u001b[38;5;241;43m.\u001b[39;49m\u001b[43mbackward\u001b[49m\u001b[43m(\u001b[49m\n\u001b[1;32m    649\u001b[0m \u001b[43m    \u001b[49m\u001b[38;5;28;43mself\u001b[39;49m\u001b[43m,\u001b[49m\u001b[43m \u001b[49m\u001b[43mgradient\u001b[49m\u001b[43m,\u001b[49m\u001b[43m \u001b[49m\u001b[43mretain_graph\u001b[49m\u001b[43m,\u001b[49m\u001b[43m \u001b[49m\u001b[43mcreate_graph\u001b[49m\u001b[43m,\u001b[49m\u001b[43m \u001b[49m\u001b[43minputs\u001b[49m\u001b[38;5;241;43m=\u001b[39;49m\u001b[43minputs\u001b[49m\n\u001b[1;32m    650\u001b[0m \u001b[43m\u001b[49m\u001b[43m)\u001b[49m\n",
      "File \u001b[0;32m~/mambaforge/envs/protein_dl/lib/python3.10/site-packages/torch/autograd/__init__.py:353\u001b[0m, in \u001b[0;36mbackward\u001b[0;34m(tensors, grad_tensors, retain_graph, create_graph, grad_variables, inputs)\u001b[0m\n\u001b[1;32m    348\u001b[0m     retain_graph \u001b[38;5;241m=\u001b[39m create_graph\n\u001b[1;32m    350\u001b[0m \u001b[38;5;66;03m# The reason we repeat the same comment below is that\u001b[39;00m\n\u001b[1;32m    351\u001b[0m \u001b[38;5;66;03m# some Python versions print out the first line of a multi-line function\u001b[39;00m\n\u001b[1;32m    352\u001b[0m \u001b[38;5;66;03m# calls in the traceback and some print out the last line\u001b[39;00m\n\u001b[0;32m--> 353\u001b[0m \u001b[43m_engine_run_backward\u001b[49m\u001b[43m(\u001b[49m\n\u001b[1;32m    354\u001b[0m \u001b[43m    \u001b[49m\u001b[43mtensors\u001b[49m\u001b[43m,\u001b[49m\n\u001b[1;32m    355\u001b[0m \u001b[43m    \u001b[49m\u001b[43mgrad_tensors_\u001b[49m\u001b[43m,\u001b[49m\n\u001b[1;32m    356\u001b[0m \u001b[43m    \u001b[49m\u001b[43mretain_graph\u001b[49m\u001b[43m,\u001b[49m\n\u001b[1;32m    357\u001b[0m \u001b[43m    \u001b[49m\u001b[43mcreate_graph\u001b[49m\u001b[43m,\u001b[49m\n\u001b[1;32m    358\u001b[0m \u001b[43m    \u001b[49m\u001b[43minputs\u001b[49m\u001b[43m,\u001b[49m\n\u001b[1;32m    359\u001b[0m \u001b[43m    \u001b[49m\u001b[43mallow_unreachable\u001b[49m\u001b[38;5;241;43m=\u001b[39;49m\u001b[38;5;28;43;01mTrue\u001b[39;49;00m\u001b[43m,\u001b[49m\n\u001b[1;32m    360\u001b[0m \u001b[43m    \u001b[49m\u001b[43maccumulate_grad\u001b[49m\u001b[38;5;241;43m=\u001b[39;49m\u001b[38;5;28;43;01mTrue\u001b[39;49;00m\u001b[43m,\u001b[49m\n\u001b[1;32m    361\u001b[0m \u001b[43m\u001b[49m\u001b[43m)\u001b[49m\n",
      "File \u001b[0;32m~/mambaforge/envs/protein_dl/lib/python3.10/site-packages/torch/autograd/graph.py:824\u001b[0m, in \u001b[0;36m_engine_run_backward\u001b[0;34m(t_outputs, *args, **kwargs)\u001b[0m\n\u001b[1;32m    822\u001b[0m     unregister_hooks \u001b[38;5;241m=\u001b[39m _register_logging_hooks_on_whole_graph(t_outputs)\n\u001b[1;32m    823\u001b[0m \u001b[38;5;28;01mtry\u001b[39;00m:\n\u001b[0;32m--> 824\u001b[0m     \u001b[38;5;28;01mreturn\u001b[39;00m \u001b[43mVariable\u001b[49m\u001b[38;5;241;43m.\u001b[39;49m\u001b[43m_execution_engine\u001b[49m\u001b[38;5;241;43m.\u001b[39;49m\u001b[43mrun_backward\u001b[49m\u001b[43m(\u001b[49m\u001b[43m  \u001b[49m\u001b[38;5;66;43;03m# Calls into the C++ engine to run the backward pass\u001b[39;49;00m\n\u001b[1;32m    825\u001b[0m \u001b[43m        \u001b[49m\u001b[43mt_outputs\u001b[49m\u001b[43m,\u001b[49m\u001b[43m \u001b[49m\u001b[38;5;241;43m*\u001b[39;49m\u001b[43margs\u001b[49m\u001b[43m,\u001b[49m\u001b[43m \u001b[49m\u001b[38;5;241;43m*\u001b[39;49m\u001b[38;5;241;43m*\u001b[39;49m\u001b[43mkwargs\u001b[49m\n\u001b[1;32m    826\u001b[0m \u001b[43m    \u001b[49m\u001b[43m)\u001b[49m  \u001b[38;5;66;03m# Calls into the C++ engine to run the backward pass\u001b[39;00m\n\u001b[1;32m    827\u001b[0m \u001b[38;5;28;01mfinally\u001b[39;00m:\n\u001b[1;32m    828\u001b[0m     \u001b[38;5;28;01mif\u001b[39;00m attach_logging_hooks:\n",
      "\u001b[0;31mRuntimeError\u001b[0m: Trying to backward through the graph a second time (or directly access saved tensors after they have already been freed). Saved intermediate values of the graph are freed when you call .backward() or autograd.grad(). Specify retain_graph=True if you need to backward through the graph a second time or if you need to access saved tensors after calling backward."
     ]
    }
   ],
   "source": [
    "loss.backward()"
   ]
  },
  {
   "cell_type": "markdown",
   "metadata": {},
   "source": [
    "## 4. Neural Networks with nn.Module\n",
    "\n",
    "PyTorch provides the `nn.Module` class as the base for all neural network layers and models.\n",
    "\n",
    "### Key Concepts:\n",
    "- **nn.Module**: Base class for all neural network modules\n",
    "- **Layers**: Building blocks (Linear, Conv2d, LSTM, etc.)\n",
    "- **Sequential**: Container for stacking layers\n",
    "- **Parameters**: Automatically tracked for optimization"
   ]
  },
  {
   "cell_type": "code",
   "execution_count": null,
   "metadata": {},
   "outputs": [
    {
     "data": {
      "text/plain": [
       "Sequential(\n",
       "  (0): Linear(in_features=10, out_features=20, bias=True)\n",
       "  (1): ReLU()\n",
       "  (2): Linear(in_features=20, out_features=20, bias=True)\n",
       "  (3): ReLU()\n",
       "  (4): Linear(in_features=20, out_features=1, bias=True)\n",
       ")"
      ]
     },
     "execution_count": 247,
     "metadata": {},
     "output_type": "execute_result"
    }
   ],
   "source": [
    "# Method 1: Using nn.Sequential\n",
    "model_sequential = nn.Sequential(\n",
    "    nn.Linear(10, 20),\n",
    "    nn.ReLU(),\n",
    "    nn.Linear(20, 20),\n",
    "    nn.ReLU(),\n",
    "    nn.Linear(20, 1)\n",
    ")\n",
    "model_sequential"
   ]
  },
  {
   "cell_type": "markdown",
   "metadata": {},
   "source": [
    "What is `nn.ReLU()`?"
   ]
  },
  {
   "cell_type": "code",
   "execution_count": null,
   "metadata": {},
   "outputs": [
    {
     "data": {
      "image/png": "[encoded data removed]",
      "text/plain": [
       "<Figure size 640x440 with 1 Axes>"
      ]
     },
     "metadata": {},
     "output_type": "display_data"
    }
   ],
   "source": [
    "def relu(x):\n",
    "    return torch.max(x, torch.zeros_like(x))\n",
    "\n",
    "x = torch.tensor([-3, -2, -1, 0, 1, 2, 3])\n",
    "sns.lineplot(x=x.numpy(), y=relu(x).numpy())\n",
    "plt.xlabel(\"x\")\n",
    "plt.ylabel(\"relu(x)\");"
   ]
  },
  {
   "cell_type": "code",
   "execution_count": null,
   "metadata": {},
   "outputs": [],
   "source": [
    "# Method 2: Custom nn.Module\n",
    "class MyAwesomeNet(nn.Module):\n",
    "    def __init__(self, input_size, hidden_size, output_size):\n",
    "        \"\"\"\n",
    "        Here we can do a lot of things, like:\n",
    "        - Initialize the weights and biases\n",
    "        - Define the activation functions\n",
    "        - Define the number of layers\n",
    "        But now let's just do something simple:\n",
    "        \"\"\"\n",
    "        super(MyAwesomeNet, self).__init__() # Very important!\n",
    "        self.fc1 = nn.Linear(input_size, hidden_size)\n",
    "        self.fc2 = nn.Linear(hidden_size, hidden_size)\n",
    "        self.fc3 = nn.Linear(hidden_size, output_size)\n",
    "        self.relu = nn.ReLU()\n",
    "        \n",
    "    def forward(self, x):\n",
    "        x = self.relu(self.fc1(x))\n",
    "        x = self.relu(self.fc2(x))\n",
    "        x = self.fc3(x)\n",
    "\n",
    "        # x here is a tensor of logits (-∞, ∞)\n",
    "        return x\n",
    "\n",
    "model = MyAwesomeNet(input_size=10, hidden_size=20, output_size=1)"
   ]
  },
  {
   "cell_type": "code",
   "execution_count": null,
   "metadata": {},
   "outputs": [
    {
     "name": "stdout",
     "output_type": "stream",
     "text": [
      "\n",
      "Trainable parameters for sequential model: 661\n",
      "Trainable parameters for custom model: 661\n"
     ]
    }
   ],
   "source": [
    "# The number of trainable parameters\n",
    "print(f\"\\nTrainable parameters for sequential model: {sum(p.numel() for p in model_sequential.parameters() if p.requires_grad)}\")\n",
    "print(f\"Trainable parameters for custom model: {sum(p.numel() for p in model.parameters() if p.requires_grad)}\")"
   ]
  },
  {
   "cell_type": "code",
   "execution_count": null,
   "metadata": {},
   "outputs": [
    {
     "name": "stdout",
     "output_type": "stream",
     "text": [
      "Input shape: torch.Size([5, 10])\n",
      "Output shape: torch.Size([5, 1])\n",
      "Output: tensor([[0.2149],\n",
      "        [0.1542],\n",
      "        [0.1525],\n",
      "        [0.1771],\n",
      "        [0.2194]])\n"
     ]
    }
   ],
   "source": [
    "# Using the model\n",
    "# Create dummy input\n",
    "x = torch.randn(5, 10)  # 5 samples, 10 features\n",
    "print(f\"Input shape: {x.shape}\")\n",
    "\n",
    "# Forward pass\n",
    "# We don't need to compute gradients here, so we use torch.no_grad()\n",
    "with torch.no_grad():\n",
    "    output = model_sequential(x)\n",
    "    print(f\"Output shape: {output.shape}\")\n",
    "    print(f\"Output: {output}\")"
   ]
  },
  {
   "cell_type": "markdown",
   "metadata": {},
   "source": [
    "## 5. Training a Neural Network\n",
    "\n",
    "The most difficult but the most important. Now we need to implement a complete training loop for a neural network.\n",
    "\n",
    "### Training Components:\n",
    "- **Dataset**: Abstract class for data representation\n",
    "- **Data Loader**: Batches data efficiently\n",
    "- **Loss Function**: Measures prediction error\n",
    "- **Optimizer**: Updates model parameters\n",
    "- **Training Loop**: Forward pass, backward pass, parameter updates"
   ]
  },
  {
   "cell_type": "code",
   "execution_count": null,
   "metadata": {},
   "outputs": [
    {
     "name": "stdout",
     "output_type": "stream",
     "text": [
      "Class distribution: physiological\n",
      "False    841\n",
      "True     836\n",
      "Name: count, dtype: int64\n",
      "Number of dimers: 1677\n",
      "Number of columns: 68\n"
     ]
    },
    {
     "data": {
      "text/html": [
       "<div>\n",
       "<style scoped>\n",
       "    .dataframe tbody tr th:only-of-type {\n",
       "        vertical-align: middle;\n",
       "    }\n",
       "\n",
       "    .dataframe tbody tr th {\n",
       "        vertical-align: top;\n",
       "    }\n",
       "\n",
       "    .dataframe thead th {\n",
       "        text-align: right;\n",
       "    }\n",
       "</style>\n",
       "<table border=\"1\" class=\"dataframe\">\n",
       "  <thead>\n",
       "    <tr style=\"text-align: right;\">\n",
       "      <th></th>\n",
       "      <th>pdb-id</th>\n",
       "      <th>global_area</th>\n",
       "      <th>global_area_per_atom</th>\n",
       "      <th>global_volume</th>\n",
       "      <th>global_volume_per_atom</th>\n",
       "      <th>global_energy</th>\n",
       "      <th>global_energy_per_atom</th>\n",
       "      <th>global_sas_area</th>\n",
       "      <th>global_sas_area_per_atom</th>\n",
       "      <th>global_sas_energy</th>\n",
       "      <th>...</th>\n",
       "      <th>contacts</th>\n",
       "      <th>gene</th>\n",
       "      <th>superfamily</th>\n",
       "      <th>pfam</th>\n",
       "      <th>binding_site_area</th>\n",
       "      <th>binding_site_area_polar</th>\n",
       "      <th>binding_site_area_apolar</th>\n",
       "      <th>fraction_polar</th>\n",
       "      <th>fraction_apolar</th>\n",
       "      <th>difficult</th>\n",
       "    </tr>\n",
       "  </thead>\n",
       "  <tbody>\n",
       "    <tr>\n",
       "      <th>0</th>\n",
       "      <td>1a17_6</td>\n",
       "      <td>33290.7</td>\n",
       "      <td>12.99403</td>\n",
       "      <td>63046.7</td>\n",
       "      <td>24.60839</td>\n",
       "      <td>-6364.07</td>\n",
       "      <td>-2.48402</td>\n",
       "      <td>17047.60</td>\n",
       "      <td>6.65402</td>\n",
       "      <td>-1801.530</td>\n",
       "      <td>...</td>\n",
       "      <td>138</td>\n",
       "      <td>PPP5C</td>\n",
       "      <td>1.25.40.10</td>\n",
       "      <td>NaN</td>\n",
       "      <td>4153.16</td>\n",
       "      <td>1651.43</td>\n",
       "      <td>2501.74</td>\n",
       "      <td>0.397632</td>\n",
       "      <td>0.602370</td>\n",
       "      <td>False</td>\n",
       "    </tr>\n",
       "    <tr>\n",
       "      <th>1</th>\n",
       "      <td>1a3a_1</td>\n",
       "      <td>27576.3</td>\n",
       "      <td>12.20190</td>\n",
       "      <td>54497.2</td>\n",
       "      <td>24.11381</td>\n",
       "      <td>-7467.66</td>\n",
       "      <td>-3.30427</td>\n",
       "      <td>12863.40</td>\n",
       "      <td>5.69177</td>\n",
       "      <td>-1617.510</td>\n",
       "      <td>...</td>\n",
       "      <td>62</td>\n",
       "      <td>mtlA</td>\n",
       "      <td>3.40.930.10</td>\n",
       "      <td>PF00359</td>\n",
       "      <td>1868.68</td>\n",
       "      <td>826.64</td>\n",
       "      <td>1042.03</td>\n",
       "      <td>0.442366</td>\n",
       "      <td>0.557629</td>\n",
       "      <td>False</td>\n",
       "    </tr>\n",
       "    <tr>\n",
       "      <th>2</th>\n",
       "      <td>1a7g_1</td>\n",
       "      <td>16535.3</td>\n",
       "      <td>12.56482</td>\n",
       "      <td>32323.4</td>\n",
       "      <td>24.56185</td>\n",
       "      <td>-3276.97</td>\n",
       "      <td>-2.49010</td>\n",
       "      <td>8715.92</td>\n",
       "      <td>6.62304</td>\n",
       "      <td>371.893</td>\n",
       "      <td>...</td>\n",
       "      <td>72</td>\n",
       "      <td>E2</td>\n",
       "      <td>3.30.70.330</td>\n",
       "      <td>PF00511</td>\n",
       "      <td>1849.89</td>\n",
       "      <td>694.27</td>\n",
       "      <td>1155.61</td>\n",
       "      <td>0.375303</td>\n",
       "      <td>0.624691</td>\n",
       "      <td>False</td>\n",
       "    </tr>\n",
       "    <tr>\n",
       "      <th>3</th>\n",
       "      <td>1ac6_1</td>\n",
       "      <td>20742.3</td>\n",
       "      <td>12.13000</td>\n",
       "      <td>41277.9</td>\n",
       "      <td>24.13912</td>\n",
       "      <td>-5331.03</td>\n",
       "      <td>-3.11756</td>\n",
       "      <td>10556.20</td>\n",
       "      <td>6.17322</td>\n",
       "      <td>-802.868</td>\n",
       "      <td>...</td>\n",
       "      <td>43</td>\n",
       "      <td>TRAV6D-7</td>\n",
       "      <td>2.60.40.10</td>\n",
       "      <td>PF07686</td>\n",
       "      <td>1196.80</td>\n",
       "      <td>452.58</td>\n",
       "      <td>744.22</td>\n",
       "      <td>0.378158</td>\n",
       "      <td>0.621842</td>\n",
       "      <td>False</td>\n",
       "    </tr>\n",
       "    <tr>\n",
       "      <th>4</th>\n",
       "      <td>1afw_1</td>\n",
       "      <td>65759.5</td>\n",
       "      <td>11.19501</td>\n",
       "      <td>133638.0</td>\n",
       "      <td>22.75077</td>\n",
       "      <td>-16828.70</td>\n",
       "      <td>-2.86495</td>\n",
       "      <td>25731.70</td>\n",
       "      <td>4.38061</td>\n",
       "      <td>-1377.680</td>\n",
       "      <td>...</td>\n",
       "      <td>196</td>\n",
       "      <td>POT1</td>\n",
       "      <td>3.40.47.10</td>\n",
       "      <td>PF00108;PF02803</td>\n",
       "      <td>4846.12</td>\n",
       "      <td>1860.29</td>\n",
       "      <td>2985.83</td>\n",
       "      <td>0.383872</td>\n",
       "      <td>0.616128</td>\n",
       "      <td>False</td>\n",
       "    </tr>\n",
       "  </tbody>\n",
       "</table>\n",
       "<p>5 rows × 68 columns</p>\n",
       "</div>"
      ],
      "text/plain": [
       "   pdb-id  global_area  global_area_per_atom  global_volume  \\\n",
       "0  1a17_6      33290.7              12.99403        63046.7   \n",
       "1  1a3a_1      27576.3              12.20190        54497.2   \n",
       "2  1a7g_1      16535.3              12.56482        32323.4   \n",
       "3  1ac6_1      20742.3              12.13000        41277.9   \n",
       "4  1afw_1      65759.5              11.19501       133638.0   \n",
       "\n",
       "   global_volume_per_atom  global_energy  global_energy_per_atom  \\\n",
       "0                24.60839       -6364.07                -2.48402   \n",
       "1                24.11381       -7467.66                -3.30427   \n",
       "2                24.56185       -3276.97                -2.49010   \n",
       "3                24.13912       -5331.03                -3.11756   \n",
       "4                22.75077      -16828.70                -2.86495   \n",
       "\n",
       "   global_sas_area  global_sas_area_per_atom  global_sas_energy  ...  \\\n",
       "0         17047.60                   6.65402          -1801.530  ...   \n",
       "1         12863.40                   5.69177          -1617.510  ...   \n",
       "2          8715.92                   6.62304            371.893  ...   \n",
       "3         10556.20                   6.17322           -802.868  ...   \n",
       "4         25731.70                   4.38061          -1377.680  ...   \n",
       "\n",
       "   contacts      gene  superfamily             pfam  binding_site_area  \\\n",
       "0       138     PPP5C   1.25.40.10              NaN            4153.16   \n",
       "1        62      mtlA  3.40.930.10          PF00359            1868.68   \n",
       "2        72        E2  3.30.70.330          PF00511            1849.89   \n",
       "3        43  TRAV6D-7   2.60.40.10          PF07686            1196.80   \n",
       "4       196      POT1   3.40.47.10  PF00108;PF02803            4846.12   \n",
       "\n",
       "   binding_site_area_polar  binding_site_area_apolar  fraction_polar  \\\n",
       "0                  1651.43                   2501.74        0.397632   \n",
       "1                   826.64                   1042.03        0.442366   \n",
       "2                   694.27                   1155.61        0.375303   \n",
       "3                   452.58                    744.22        0.378158   \n",
       "4                  1860.29                   2985.83        0.383872   \n",
       "\n",
       "   fraction_apolar  difficult  \n",
       "0         0.602370      False  \n",
       "1         0.557629      False  \n",
       "2         0.624691      False  \n",
       "3         0.621842      False  \n",
       "4         0.616128      False  \n",
       "\n",
       "[5 rows x 68 columns]"
      ]
     },
     "execution_count": 252,
     "metadata": {},
     "output_type": "execute_result"
    }
   ],
   "source": [
    "# TODO: change the path to the data\n",
    "dimer_data_path = Path(\"/scicore/home/schwede/litvin0000/projects/vib_course/ml-ai-summer-school-vib/0_dl_pytorch_intro/data/dimers_features.csv\")\n",
    "dimer_data = pd.read_csv(dimer_data_path, index_col=0)\n",
    "y = dimer_data[\"physiological\"]\n",
    "print(f\"Class distribution: {y.value_counts()}\")\n",
    "print(f\"Number of dimers: {dimer_data.shape[0]}\")\n",
    "print(f\"Number of columns: {dimer_data.shape[1]}\")\n",
    "dimer_data.head()"
   ]
  },
  {
   "cell_type": "markdown",
   "metadata": {},
   "source": [
    "For now we will just use a subset of the features and discuss this dataset more later:"
   ]
  },
  {
   "cell_type": "code",
   "execution_count": null,
   "metadata": {},
   "outputs": [
    {
     "name": "stdout",
     "output_type": "stream",
     "text": [
      "Number of used features: 14\n"
     ]
    },
    {
     "data": {
      "text/html": [
       "<div>\n",
       "<style scoped>\n",
       "    .dataframe tbody tr th:only-of-type {\n",
       "        vertical-align: middle;\n",
       "    }\n",
       "\n",
       "    .dataframe tbody tr th {\n",
       "        vertical-align: top;\n",
       "    }\n",
       "\n",
       "    .dataframe thead th {\n",
       "        text-align: right;\n",
       "    }\n",
       "</style>\n",
       "<table border=\"1\" class=\"dataframe\">\n",
       "  <thead>\n",
       "    <tr style=\"text-align: right;\">\n",
       "      <th></th>\n",
       "      <th>split_area</th>\n",
       "      <th>split_area_per_atom</th>\n",
       "      <th>split_volume</th>\n",
       "      <th>split_volume_per_atom</th>\n",
       "      <th>split_energy</th>\n",
       "      <th>split_energy_per_atom</th>\n",
       "      <th>split_sas_area</th>\n",
       "      <th>split_sas_area_per_atom</th>\n",
       "      <th>split_sas_energy</th>\n",
       "      <th>split_sas_energy_per_atom</th>\n",
       "      <th>split_nonsas_area</th>\n",
       "      <th>split_nonsas_area_per_atom</th>\n",
       "      <th>split_nonsas_energy</th>\n",
       "      <th>split_nonsas_energy_per_atom</th>\n",
       "    </tr>\n",
       "  </thead>\n",
       "  <tbody>\n",
       "    <tr>\n",
       "      <th>0</th>\n",
       "      <td>36100.7</td>\n",
       "      <td>14.09083</td>\n",
       "      <td>66589.0</td>\n",
       "      <td>25.99102</td>\n",
       "      <td>-5101.39</td>\n",
       "      <td>-1.99117</td>\n",
       "      <td>21251.3</td>\n",
       "      <td>8.29481</td>\n",
       "      <td>-1216.300</td>\n",
       "      <td>-0.47475</td>\n",
       "      <td>14849.4</td>\n",
       "      <td>5.79602</td>\n",
       "      <td>-3885.090</td>\n",
       "      <td>-1.51643</td>\n",
       "    </tr>\n",
       "    <tr>\n",
       "      <th>1</th>\n",
       "      <td>28767.8</td>\n",
       "      <td>12.72912</td>\n",
       "      <td>55897.6</td>\n",
       "      <td>24.73345</td>\n",
       "      <td>-7017.63</td>\n",
       "      <td>-3.10515</td>\n",
       "      <td>14769.9</td>\n",
       "      <td>6.53535</td>\n",
       "      <td>-1493.750</td>\n",
       "      <td>-0.66095</td>\n",
       "      <td>13997.9</td>\n",
       "      <td>6.19376</td>\n",
       "      <td>-5523.880</td>\n",
       "      <td>-2.44419</td>\n",
       "    </tr>\n",
       "    <tr>\n",
       "      <th>2</th>\n",
       "      <td>17688.7</td>\n",
       "      <td>13.44126</td>\n",
       "      <td>33954.9</td>\n",
       "      <td>25.80160</td>\n",
       "      <td>-2256.32</td>\n",
       "      <td>-1.71453</td>\n",
       "      <td>10585.0</td>\n",
       "      <td>8.04331</td>\n",
       "      <td>958.562</td>\n",
       "      <td>0.72839</td>\n",
       "      <td>7103.7</td>\n",
       "      <td>5.39795</td>\n",
       "      <td>-3214.882</td>\n",
       "      <td>-2.44292</td>\n",
       "    </tr>\n",
       "    <tr>\n",
       "      <th>3</th>\n",
       "      <td>21510.9</td>\n",
       "      <td>12.57947</td>\n",
       "      <td>42193.0</td>\n",
       "      <td>24.67427</td>\n",
       "      <td>-4876.31</td>\n",
       "      <td>-2.85164</td>\n",
       "      <td>11780.7</td>\n",
       "      <td>6.88930</td>\n",
       "      <td>-487.757</td>\n",
       "      <td>-0.28524</td>\n",
       "      <td>9730.2</td>\n",
       "      <td>5.69018</td>\n",
       "      <td>-4388.553</td>\n",
       "      <td>-2.56641</td>\n",
       "    </tr>\n",
       "    <tr>\n",
       "      <th>4</th>\n",
       "      <td>69013.4</td>\n",
       "      <td>11.74896</td>\n",
       "      <td>137834.0</td>\n",
       "      <td>23.46510</td>\n",
       "      <td>-15396.90</td>\n",
       "      <td>-2.62120</td>\n",
       "      <td>30628.6</td>\n",
       "      <td>5.21427</td>\n",
       "      <td>-562.925</td>\n",
       "      <td>-0.09583</td>\n",
       "      <td>38384.8</td>\n",
       "      <td>6.53470</td>\n",
       "      <td>-14833.975</td>\n",
       "      <td>-2.52536</td>\n",
       "    </tr>\n",
       "  </tbody>\n",
       "</table>\n",
       "</div>"
      ],
      "text/plain": [
       "   split_area  split_area_per_atom  split_volume  split_volume_per_atom  \\\n",
       "0     36100.7             14.09083       66589.0               25.99102   \n",
       "1     28767.8             12.72912       55897.6               24.73345   \n",
       "2     17688.7             13.44126       33954.9               25.80160   \n",
       "3     21510.9             12.57947       42193.0               24.67427   \n",
       "4     69013.4             11.74896      137834.0               23.46510   \n",
       "\n",
       "   split_energy  split_energy_per_atom  split_sas_area  \\\n",
       "0      -5101.39               -1.99117         21251.3   \n",
       "1      -7017.63               -3.10515         14769.9   \n",
       "2      -2256.32               -1.71453         10585.0   \n",
       "3      -4876.31               -2.85164         11780.7   \n",
       "4     -15396.90               -2.62120         30628.6   \n",
       "\n",
       "   split_sas_area_per_atom  split_sas_energy  split_sas_energy_per_atom  \\\n",
       "0                  8.29481         -1216.300                   -0.47475   \n",
       "1                  6.53535         -1493.750                   -0.66095   \n",
       "2                  8.04331           958.562                    0.72839   \n",
       "3                  6.88930          -487.757                   -0.28524   \n",
       "4                  5.21427          -562.925                   -0.09583   \n",
       "\n",
       "   split_nonsas_area  split_nonsas_area_per_atom  split_nonsas_energy  \\\n",
       "0            14849.4                     5.79602            -3885.090   \n",
       "1            13997.9                     6.19376            -5523.880   \n",
       "2             7103.7                     5.39795            -3214.882   \n",
       "3             9730.2                     5.69018            -4388.553   \n",
       "4            38384.8                     6.53470           -14833.975   \n",
       "\n",
       "   split_nonsas_energy_per_atom  \n",
       "0                      -1.51643  \n",
       "1                      -2.44419  \n",
       "2                      -2.44292  \n",
       "3                      -2.56641  \n",
       "4                      -2.52536  "
      ]
     },
     "execution_count": 253,
     "metadata": {},
     "output_type": "execute_result"
    }
   ],
   "source": [
    "features_to_use = [col for col in dimer_data.columns if col.startswith(\"split_\")]\n",
    "X = dimer_data[features_to_use]\n",
    "print(f\"Number of used features: {X.shape[1]}\")\n",
    "X.head()"
   ]
  },
  {
   "cell_type": "markdown",
   "metadata": {},
   "source": [
    "To train a good model we should always evaluate its performance on a subset of the data that it doesn't use for training. Now we will split the data randomly, but usually it's not that trivial."
   ]
  },
  {
   "cell_type": "code",
   "execution_count": null,
   "metadata": {},
   "outputs": [
    {
     "name": "stdout",
     "output_type": "stream",
     "text": [
      "X_train shape: (1341, 14)\n",
      "X_test shape: (336, 14)\n",
      "y_train shape: (1341,)\n",
      "y_test shape: (336,)\n"
     ]
    }
   ],
   "source": [
    "X_train, X_test, y_train, y_test = train_test_split(X, y, test_size=0.2, random_state=SEED)\n",
    "\n",
    "print(f\"X_train shape: {X_train.shape}\")\n",
    "print(f\"X_test shape: {X_test.shape}\")\n",
    "print(f\"y_train shape: {y_train.shape}\")\n",
    "print(f\"y_test shape: {y_test.shape}\")"
   ]
  },
  {
   "cell_type": "markdown",
   "metadata": {},
   "source": [
    "Normalize the data:"
   ]
  },
  {
   "cell_type": "code",
   "execution_count": null,
   "metadata": {},
   "outputs": [],
   "source": [
    "x_mean, x_std = X_train.mean(axis=0), X_train.std(axis=0)\n",
    "X_train_scaled = (X_train - x_mean) / x_std\n",
    "X_test_scaled = (X_test - x_mean) / x_std"
   ]
  },
  {
   "cell_type": "markdown",
   "metadata": {},
   "source": [
    "#### Create a custom pytorch dataset\n",
    "\n",
    "- Inherit your class from torch `Dataset`\n",
    "- Implement 2 mandatory methods:\n",
    "    * `__getitem__`\n",
    "    * `__len__`"
   ]
  },
  {
   "cell_type": "code",
   "execution_count": null,
   "metadata": {},
   "outputs": [
    {
     "name": "stdout",
     "output_type": "stream",
     "text": [
      "Train dataset size: 1341\n",
      "Test dataset size: 336\n"
     ]
    }
   ],
   "source": [
    "class DimerDataset(Dataset):\n",
    "    def __init__(self, features, labels):\n",
    "        self.feature_names = features.columns.tolist()\n",
    "        self.features = features\n",
    "        self.labels = labels\n",
    "        \n",
    "    def __len__(self):\n",
    "        return len(self.features)\n",
    "        \n",
    "    def __getitem__(self, idx):\n",
    "        features = torch.tensor(self.features.iloc[idx].values, dtype=torch.float32)\n",
    "        target = torch.tensor(self.labels.iloc[idx], dtype=torch.float32)\n",
    "        return features, target\n",
    "\n",
    "train_dataset = DimerDataset(X_train_scaled, y_train)\n",
    "test_dataset = DimerDataset(X_test_scaled, y_test)\n",
    "\n",
    "print(f\"Train dataset size: {len(train_dataset)}\")\n",
    "print(f\"Test dataset size: {len(test_dataset)}\")"
   ]
  },
  {
   "cell_type": "code",
   "execution_count": 392,
   "metadata": {},
   "outputs": [],
   "source": [
    "# Create data loaders (efficient batching)\n",
    "train_loader = DataLoader(train_dataset, batch_size=32, shuffle=True)\n",
    "# Why do we need shuffle=False or True?\n",
    "test_loader = DataLoader(test_dataset, batch_size=32, shuffle=False)"
   ]
  },
  {
   "cell_type": "code",
   "execution_count": 393,
   "metadata": {},
   "outputs": [
    {
     "data": {
      "text/plain": [
       "(torch.Size([32, 14]), torch.Size([32]))"
      ]
     },
     "execution_count": 393,
     "metadata": {},
     "output_type": "execute_result"
    }
   ],
   "source": [
    "train_batch = next(iter(train_loader))\n",
    "train_batch[0].shape, train_batch[1].shape"
   ]
  },
  {
   "cell_type": "markdown",
   "metadata": {},
   "source": [
    "#### Model training\n",
    "\n",
    "Initialize `model`, `criterion` (loss function) and `optimizer` to perform gradient descent"
   ]
  },
  {
   "cell_type": "code",
   "execution_count": 394,
   "metadata": {},
   "outputs": [],
   "source": [
    "model = MyAwesomeNet(input_size=X_train.shape[1], hidden_size=1280, output_size=2)\n",
    "criterion = nn.CrossEntropyLoss() # Or loss\n",
    "optimizer = optim.SGD(model.parameters(), lr=0.001)"
   ]
  },
  {
   "cell_type": "code",
   "execution_count": 395,
   "metadata": {},
   "outputs": [
    {
     "name": "stdout",
     "output_type": "stream",
     "text": [
      "=== Training Loop ===\n",
      "Epoch   0: Loss = 0.6878, Train Acc = 0.63, Test Acc = 0.64\n",
      "Epoch  10: Loss = 0.5682, Train Acc = 0.73, Test Acc = 0.69\n",
      "Epoch  20: Loss = 0.5341, Train Acc = 0.76, Test Acc = 0.73\n",
      "Epoch  30: Loss = 0.5168, Train Acc = 0.77, Test Acc = 0.74\n",
      "Epoch  40: Loss = 0.5048, Train Acc = 0.77, Test Acc = 0.74\n",
      "Epoch  50: Loss = 0.4957, Train Acc = 0.77, Test Acc = 0.74\n",
      "Epoch  60: Loss = 0.4886, Train Acc = 0.77, Test Acc = 0.74\n",
      "Epoch  70: Loss = 0.4818, Train Acc = 0.78, Test Acc = 0.76\n",
      "Epoch  80: Loss = 0.4766, Train Acc = 0.78, Test Acc = 0.75\n",
      "Epoch  90: Loss = 0.4719, Train Acc = 0.78, Test Acc = 0.76\n",
      "\n",
      "Final Test Accuracy: 0.7708\n"
     ]
    }
   ],
   "source": [
    "# Training loop\n",
    "print(\"=== Training Loop ===\")\n",
    "\n",
    "n_epochs = 100\n",
    "batch_size = 32\n",
    "train_losses = []\n",
    "test_accuracies = []\n",
    "train_accuracies = []\n",
    "\n",
    "for epoch in range(n_epochs):\n",
    "    model.train()\n",
    "    total_loss = 0\n",
    "    \n",
    "    # Mini-batch training\n",
    "    train_predictions = []\n",
    "    train_targets = []\n",
    "    for batch_X, batch_y in train_loader:\n",
    "        \n",
    "        # Forward pass\n",
    "        outputs = model(batch_X)\n",
    "        loss = criterion(outputs, batch_y.to(torch.long))\n",
    "        _, predicted = torch.max(outputs, 1)\n",
    "        train_predictions.append(predicted.numpy())\n",
    "        train_targets.append(batch_y.numpy())\n",
    "        \n",
    "        # Backward pass and optimization\n",
    "        optimizer.zero_grad()\n",
    "        loss.backward()\n",
    "        optimizer.step()\n",
    "        \n",
    "        total_loss += loss.item()\n",
    "\n",
    "    train_predictions = np.concatenate(train_predictions)\n",
    "    train_targets = np.concatenate(train_targets)\n",
    "    train_accuracies.append(accuracy_score(train_targets, train_predictions))\n",
    "    \n",
    "    # Evaluation\n",
    "    model.eval()\n",
    "    test_predictions = []\n",
    "    test_targets = []\n",
    "    with torch.no_grad():\n",
    "        for batch_X, batch_y in test_loader:\n",
    "            test_outputs = model(batch_X)\n",
    "            _, predicted = torch.max(test_outputs, 1)\n",
    "            test_predictions.append(predicted.numpy())\n",
    "            test_targets.append(batch_y.numpy())\n",
    "    \n",
    "    test_predictions = np.concatenate(test_predictions)\n",
    "    test_targets = np.concatenate(test_targets)\n",
    "    train_losses.append(total_loss / (len(X_train) // batch_size))\n",
    "    test_accuracies.append(accuracy_score(test_targets, test_predictions))\n",
    "    \n",
    "    if epoch % 10 == 0:\n",
    "        print(f\"Epoch {epoch:3d}: Loss = {train_losses[-1]:.4f}, Train Acc = {train_accuracies[-1]:.2f}, Test Acc = {test_accuracies[-1]:.2f}\")\n",
    "\n",
    "print(f\"\\nFinal Test Accuracy: {test_accuracies[-1]:.4f}\")"
   ]
  },
  {
   "cell_type": "markdown",
   "metadata": {},
   "source": [
    "What would happen if you don't normalize X?"
   ]
  },
  {
   "cell_type": "code",
   "execution_count": 400,
   "metadata": {},
   "outputs": [
    {
     "data": {
      "image/png": "[encoded data removed]",
      "text/plain": [
       "<Figure size 640x440 with 1 Axes>"
      ]
     },
     "metadata": {},
     "output_type": "display_data"
    }
   ],
   "source": [
    "sns.lineplot(x=range(n_epochs), y=train_losses, label=\"Train\")\n",
    "plt.xlabel(\"Epoch\")\n",
    "plt.ylabel(\"Loss\")\n",
    "plt.legend();"
   ]
  },
  {
   "cell_type": "code",
   "execution_count": 398,
   "metadata": {},
   "outputs": [
    {
     "data": {
      "image/png": "[encoded data removed]",
      "text/plain": [
       "<Figure size 640x440 with 1 Axes>"
      ]
     },
     "metadata": {},
     "output_type": "display_data"
    }
   ],
   "source": [
    "sns.lineplot(x=range(n_epochs), y=train_accuracies, label=\"Train\");\n",
    "sns.lineplot(x=range(n_epochs), y=test_accuracies, label=\"Test\");\n",
    "plt.xlabel(\"Epoch\");\n",
    "plt.ylabel(\"Accuracy\");\n",
    "plt.legend();"
   ]
  },
  {
   "cell_type": "code",
   "execution_count": null,
   "metadata": {},
   "outputs": [],
   "source": []
  },
  {
   "cell_type": "code",
   "execution_count": null,
   "metadata": {},
   "outputs": [],
   "source": []
  },
  {
   "cell_type": "markdown",
   "metadata": {},
   "source": [
    "## 7. GPU Acceleration\n",
    "\n",
    "PyTorch makes it easy to use GPUs for faster computation.\n",
    "\n",
    "### Key Concepts:\n",
    "- **device**: CPU or GPU\n",
    "- **to()**: Move tensors/models to device\n",
    "- **cuda.is_available()**: Check GPU availability"
   ]
  },
  {
   "cell_type": "code",
   "execution_count": null,
   "metadata": {},
   "outputs": [],
   "source": [
    "# GPU setup\n",
    "device = torch.device('cuda' if torch.cuda.is_available() else 'cpu')\n",
    "print(f\"Using device: {device}\")\n",
    "\n",
    "# Move model to GPU\n",
    "model = model.to(device)\n",
    "print(f\"Model device: {next(model.parameters()).device}\")\n",
    "\n",
    "# Move data to GPU\n",
    "X_train_gpu = X_train.to(device)\n",
    "y_train_gpu = y_train.to(device)\n",
    "print(f\"Data device: {X_train_gpu.device}\")\n",
    "\n",
    "# Example: GPU computation\n",
    "if torch.cuda.is_available():\n",
    "    # Create tensors on GPU\n",
    "    a_gpu = torch.randn(1000, 1000, device=device)\n",
    "    b_gpu = torch.randn(1000, 1000, device=device)\n",
    "    \n",
    "    # Matrix multiplication on GPU\n",
    "    start_time = torch.cuda.Event(enable_timing=True)\n",
    "    end_time = torch.cuda.Event(enable_timing=True)\n",
    "    \n",
    "    start_time.record()\n",
    "    c_gpu = torch.matmul(a_gpu, b_gpu)\n",
    "    end_time.record()\n",
    "    \n",
    "    torch.cuda.synchronize()\n",
    "    print(f\"GPU computation time: {start_time.elapsed_time(end_time):.2f} ms\")\n",
    "    \n",
    "    # Compare with CPU\n",
    "    a_cpu = a_gpu.cpu()\n",
    "    b_cpu = b_gpu.cpu()\n",
    "    \n",
    "    import time\n",
    "    start_time = time.time()\n",
    "    c_cpu = torch.matmul(a_cpu, b_cpu)\n",
    "    cpu_time = (time.time() - start_time) * 1000\n",
    "    print(f\"CPU computation time: {cpu_time:.2f} ms\")\n",
    "    print(f\"Speedup: {cpu_time / start_time.elapsed_time(end_time):.1f}x\")"
   ]
  },
  {
   "cell_type": "markdown",
   "metadata": {},
   "source": [
    "## 8. Best Practices and Tips\n",
    "\n",
    "### Memory Management:\n",
    "- Use `torch.no_grad()` for inference\n",
    "- Clear gradients with `optimizer.zero_grad()`\n",
    "- Use appropriate batch sizes\n",
    "\n",
    "### Debugging:\n",
    "- Check tensor shapes with `.shape`\n",
    "- Use `print()` or `torch.sum()` for debugging\n",
    "- Verify device placement\n",
    "\n",
    "### Performance:\n",
    "- Use GPU when available\n",
    "- Profile your code\n",
    "- Use appropriate data types (float32 vs float64)\n",
    "\n",
    "### Common Pitfalls:\n",
    "- Forgetting to call `model.train()` and `model.eval()`\n",
    "- Not zeroing gradients\n",
    "- Mixing CPU and GPU tensors"
   ]
  },
  {
   "cell_type": "code",
   "execution_count": null,
   "metadata": {},
   "outputs": [],
   "source": [
    "# Example: Common mistakes and solutions\n",
    "print(\"=== Common Mistakes and Solutions ===\")\n",
    "\n",
    "# Mistake 1: Not zeroing gradients\n",
    "print(\"1. Always zero gradients before backward pass:\")\n",
    "print(\"   optimizer.zero_grad()  # Do this!\")\n",
    "print(\"   loss.backward()\")\n",
    "print(\"   optimizer.step()\")\n",
    "\n",
    "# Mistake 2: Mixing train and eval modes\n",
    "print(\"\\n2. Use appropriate modes:\")\n",
    "print(\"   model.train()  # During training\")\n",
    "print(\"   model.eval()   # During evaluation\")\n",
    "\n",
    "# Mistake 3: Not using torch.no_grad() for inference\n",
    "print(\"\\n3. Use torch.no_grad() for inference:\")\n",
    "print(\"   with torch.no_grad():\")\n",
    "print(\"       predictions = model(x)\")\n",
    "\n",
    "# Mistake 4: Device mismatch\n",
    "print(\"\\n4. Ensure all tensors are on the same device:\")\n",
    "print(\"   model = model.to(device)\")\n",
    "print(\"   data = data.to(device)\")\n",
    "print(\"   labels = labels.to(device)\")"
   ]
  },
  {
   "cell_type": "markdown",
   "metadata": {},
   "source": [
    "## 9. Summary and Next Steps\n",
    "\n",
    "### What We've Covered:\n",
    "1. **Tensors**: Basic operations and manipulation\n",
    "2. **Autograd**: Automatic differentiation\n",
    "3. **Neural Networks**: Building models with nn.Module\n",
    "4. **Training**: Complete training loops\n",
    "5. **Data Handling**: Datasets and DataLoaders\n",
    "6. **GPU Acceleration**: Using CUDA\n",
    "7. **Best Practices**: Common pitfalls and solutions\n",
    "\n",
    "### Next Steps:\n",
    "- Explore PyTorch's built-in datasets (MNIST, CIFAR, etc.)\n",
    "- Learn about different architectures (CNNs, RNNs, Transformers)\n",
    "- Study advanced topics (transfer learning, custom loss functions)\n",
    "- Practice with real-world datasets\n",
    "- Explore PyTorch ecosystem (torchvision, torchaudio, etc.)\n",
    "\n",
    "### Resources:\n",
    "- [PyTorch Official Tutorials](https://pytorch.org/tutorials/)\n",
    "- [PyTorch Documentation](https://pytorch.org/docs/)\n",
    "- [PyTorch Forums](https://discuss.pytorch.org/)\n",
    "- [GitHub Examples](https://github.com/pytorch/examples)\n",
    "\n",
    "Happy coding with PyTorch! 🚀"
   ]
  }
 ],
 "metadata": {
  "kernelspec": {
   "display_name": "Python VIB course",
   "language": "python",
   "name": "protein_dl"
  },
  "language_info": {
   "codemirror_mode": {
    "name": "ipython",
    "version": 3
   },
   "file_extension": ".py",
   "mimetype": "text/x-python",
   "name": "python",
   "nbconvert_exporter": "python",
   "pygments_lexer": "ipython3",
   "version": "3.10.18"
  }
 },
 "nbformat": 4,
 "nbformat_minor": 4
}
